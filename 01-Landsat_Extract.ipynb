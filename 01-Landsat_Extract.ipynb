{
 "cells": [
  {
   "cell_type": "code",
   "execution_count": null,
   "id": "68ad9f6f-36a5-4b4b-ae08-0d7ea363577c",
   "metadata": {},
   "outputs": [],
   "source": [
    "import numpy as np\n",
    "import matplotlib.pyplot as plt\n",
    "import rasterio\n",
    "from pathlib import Path"
   ]
  },
  {
   "cell_type": "markdown",
   "id": "98de976e-3334-4aa0-8340-b63665b5a7e2",
   "metadata": {},
   "source": [
    "From the tutorial [Landsat for Geosciences](https://medium.com/analytics-vidhya/python-for-geosciences-raster-bit-masks-explained-step-by-step-8620ed27141e)"
   ]
  },
  {
   "cell_type": "code",
   "execution_count": null,
   "id": "39970c1e-f3b0-41eb-8025-b49dde4897cb",
   "metadata": {},
   "outputs": [],
   "source": [
    "def load_landsat_image(img_folder, bands):\n",
    "    image = {}\n",
    "    path = Path(img_folder)\n",
    "    for band in bands:\n",
    "        file = next(path.glob(f'*{band}.tif'))\n",
    "        print(f'Opening file {file}')\n",
    "        ds = rasterio.open(file)\n",
    "        image.update({band: ds.read(1)})\n",
    "    return image\n",
    "\n",
    "img = load_landsat_image('F:/Data/Spatial - Raster/Imagery/Afghanistan/LC08_L2SP_154038_20181229_20200829_02_T1_ST/', ['B2', 'B3', 'B4', 'QA_PIXEL'])\n",
    "\n",
    "img['QA_PIXEL']"
   ]
  },
  {
   "cell_type": "code",
   "execution_count": null,
   "id": "76ac21ce-8ec6-477a-81a1-cc9fa2750e8f",
   "metadata": {},
   "outputs": [],
   "source": [
    "mask_values = {\n",
    "               'Dilated cloud over land': 21826,\n",
    "               'Dilated cloud over water': 21890,\n",
    "               'Mid conf Cloud': 22280,\n",
    "               'High conf cloud shadow': 23888,\n",
    "               'Water with cloud shadow': 23952,\n",
    "               'Mid conf cloud with shadow': 24088,\n",
    "               'Mid conf cloud with shadow over water': 24216,\n",
    "               'High conf cloud with shadow': 24344,\n",
    "               'High conf cloud with shadow over water': 24472,\n",
    "               'High conf Cirrus': 54596,\n",
    "               'Cirrus, high cloud': 55052,\n",
    "               'Cirrus, mid conf cloud, shadow': 56856,\n",
    "               'Cirrus, mid conf cloud, shadow, over water': 56984,\n",
    "               'Cirrus, high conf cloud, shadow': 57240,\n",
    "              }\n",
    "final_mask = np.zerow_like(img['QA_PIXEL'])\n",
    "\n",
    "for key, value in mask_values.items():\n",
    "    mask = (img['QA_PIXEL'] == value)\n",
    "    count = np.count_nonzero(mask)\n",
    "    print(f'{key}: {count}')\n",
    "    final_mask = final_mask | mask\n",
    "\n",
    "plt.figure(figsize=(7,7))\n",
    "plt.imshow(final_mask[4000:5000, 5400:6400])"
   ]
  },
  {
   "cell_type": "markdown",
   "id": "11d8aa6f-2a49-42bb-bc4b-8079b85e8ccc",
   "metadata": {},
   "source": [
    "Accessing bit masks in Python"
   ]
  },
  {
   "cell_type": "code",
   "execution_count": null,
   "id": "4790bff9-8fa8-4364-b4e8-68d6892b4a83",
   "metadata": {},
   "outputs": [],
   "source": [
    "mask_bit = np.bitwise_and(img['QA_PIXEL'], compare_mask)\n",
    "\n",
    "for value in np.unique(mask_bit):\n",
    "    print(f'{value:05b}')"
   ]
  },
  {
   "cell_type": "code",
   "execution_count": null,
   "id": "e7cd53f1-7a66-4c58-bfc4-61df367e10ec",
   "metadata": {},
   "outputs": [],
   "source": [
    "final_mask_bit = mask_bit > 0\n",
    "\n",
    "plt.figure(figsize=(7,7))\n",
    "plt.imshow(final_mask_bit[4000:5000, 5400:6400])"
   ]
  },
  {
   "cell_type": "markdown",
   "id": "e09ec822-e3e2-497a-98dd-f619257bb1c2",
   "metadata": {},
   "source": [
    "Simplify Landsat 8 mask processor"
   ]
  },
  {
   "cell_type": "code",
   "execution_count": null,
   "id": "3ca69e5e-4312-457e-a34f-02ecb3117483",
   "metadata": {},
   "outputs": [],
   "source": [
    "L8_flags = {\n",
    "    'dilated_cloud': 1<<1,\n",
    "    'cirrus': 1<<2,\n",
    "    'cloud': 1<<3,\n",
    "    'shadow': 1<<4,\n",
    "    'snow': 1<<5,\n",
    "    'clear': 1<<6,\n",
    "    'water': 1<<7\n",
    "}\n",
    "\n",
    "def get_mask(mask, flaglist):\n",
    "    final_mask = np.zeros_like(mask)\n",
    "    for flag in flag_list:\n",
    "        flag_mask = np.bitwise_and(mask, L8_flags[flag])\n",
    "        final_mask = final_mask | flag_mask\n",
    "    return final_mask > 0\n",
    "\n",
    "clouds = get_mask(img['QA_PIXEL'], ['cirrus', 'cloud', 'dilated_cloud'])\n",
    "shadows = get_mask(img['QA_PIXEL'], ['shadow'])\n",
    "\n",
    "fig, ax = plt.subsplots(1, 2, figsize=(15,7))\n",
    "ax[0].imshow(clouds[4000:5000, 5400:6400])\n",
    "ax[1].imshow(shadows[4000:5000, 5400:6400])"
   ]
  },
  {
   "cell_type": "markdown",
   "id": "c58e457c-035b-4455-891e-891036a0cecb",
   "metadata": {},
   "source": [
    "Overlay with RGB Image"
   ]
  },
  {
   "cell_type": "code",
   "execution_count": null,
   "id": "92688840-355a-4142-b4cb-6b4b35b18b86",
   "metadata": {},
   "outputs": [],
   "source": [
    "red = np.where(mask==True, red*transparency+color_mask[0]*(1-transparency), red)\n",
    "green = np.where(mask==True, green*transparency+color_mask[1]*(1-transparency), green)\n",
    "blue = np.where(mask==True, blue*transparency+color_mask[2]*(1-transparency), blue)"
   ]
  },
  {
   "cell_type": "code",
   "execution_count": null,
   "id": "72dd1e54-a43a-47f4-99aa-ac7ca0cb2f08",
   "metadata": {},
   "outputs": [],
   "source": [
    "def plot_masked_rgb(red, green, blue, mask, color_mask=(1, 0, 0), transparency=0.5, brightness=2):\n",
    "    red = red / red.max() * brightness\n",
    "    green = green / green.max() * brightness\n",
    "    blue = blue / blue.max() * brightness \n",
    "\n",
    "    red = np.where(mask==True, red*transparency+color_mask[0]*(1-transparency), red)\n",
    "    green = np.where(mask==True, green*transparency+color_mask[1]*(1-transparency), green)\n",
    "    blue = np.where(mask==True, blue*transparency+color_mask[2]*(1-transparency), blue)\n",
    "\n",
    "    rgb = np.stack([red, green, blue], axis=2)\n",
    "    return rgb\n",
    "    \n",
    "rgb = plot_masked_rgb(img['B4'], img['B3'], img['B2'], shadows, color_mask=(1, 0, 0), transparency=0.7, brightness=2)\n",
    "rgb = plot_masked_rgb(rgb[..., 0], rgb[..., 1], rgb[..., 2], clouds, color_mask=(1, 1, 0), transparency=0.7, brightness=2)\n",
    "\n",
    "plt.figure(figsize=(12,12))\n",
    "plt.imshow(rgb[4000:5000, 5400:6400, 0:3])"
   ]
  }
 ],
 "metadata": {
  "kernelspec": {
   "display_name": "Python [conda env:R-MINI~1]",
   "language": "python",
   "name": "conda-env-R-MINI_1-py"
  },
  "language_info": {
   "codemirror_mode": {
    "name": "ipython",
    "version": 3
   },
   "file_extension": ".py",
   "mimetype": "text/x-python",
   "name": "python",
   "nbconvert_exporter": "python",
   "pygments_lexer": "ipython3",
   "version": "3.8.19"
  }
 },
 "nbformat": 4,
 "nbformat_minor": 5
}

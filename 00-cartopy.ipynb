{
 "cells": [
  {
   "cell_type": "code",
   "execution_count": null,
   "id": "796858c1-dbd9-4241-98a1-77f85b549de9",
   "metadata": {
    "scrolled": true
   },
   "outputs": [],
   "source": [
    "!pip install cartopy scipy"
   ]
  },
  {
   "cell_type": "code",
   "execution_count": null,
   "id": "1cba461e-22e8-488f-9e3a-868ffb607352",
   "metadata": {
    "scrolled": true
   },
   "outputs": [],
   "source": [
    "!pip install geemap"
   ]
  },
  {
   "cell_type": "code",
   "execution_count": null,
   "id": "d5380950-781b-4cb9-bdfa-60b7ec6004d6",
   "metadata": {},
   "outputs": [],
   "source": [
    "%pylab inline\n",
    "\n",
    "import ee\n",
    "import geemap\n",
    "from geemap import cartoee"
   ]
  },
  {
   "cell_type": "code",
   "execution_count": null,
   "id": "441f5bd1-a6ab-4c43-a338-bd93fe8028cb",
   "metadata": {},
   "outputs": [],
   "source": [
    "geemap.ee_initialize()"
   ]
  },
  {
   "cell_type": "code",
   "execution_count": null,
   "id": "dd3b7870-a156-4a39-959c-3ff74e946a50",
   "metadata": {},
   "outputs": [],
   "source": [
    "srtm = ee.Image(\"CGIAR/SRTM90_V4\")\n",
    "region = [180, -60, -180, 85] \n",
    "vis = {\"min\": 0, \"max\": 3000} "
   ]
  },
  {
   "cell_type": "code",
   "execution_count": null,
   "id": "9e04e23d-5e88-42d6-ac6b-5b0aa85448a5",
   "metadata": {},
   "outputs": [],
   "source": [
    "fig = plt.figure(figsize=(15, 10))\n",
    "\n",
    "ax = cartoee.get_map(srtm, region=region, vis_params=vis)\n",
    "cartoee.add_colorbar(ax, vis, loc=\"bottom\", label=\"Elevation\", orientation=\"horizontal\")\n",
    "cartoee.add_gridlines(ax, interval=[60, 30], linestyle=\":\")\n",
    "ax.coastlines(color=\"red\")\n",
    "\n",
    "show()"
   ]
  },
  {
   "cell_type": "code",
   "execution_count": null,
   "id": "92c6f5b4-c04d-42ef-bce6-c8a7ff7bacfb",
   "metadata": {},
   "outputs": [],
   "source": [
    "fig = plt.figure(figsize=(15, 10))\n",
    "\n",
    "cmap = \"gist_earth\" \n",
    "ax = cartoee.get_map(srtm, region=region, vis_params=vis, cmap=cmap)\n",
    "cartoee.add_colorbar(\n",
    "    ax, vis, cmap=cmap, loc=\"right\", label=\"Elevation\", orientation=\"vertical\"\n",
    ")\n",
    "cartoee.add_gridlines(ax, interval=[60, 30], linestyle=\"--\")\n",
    "ax.coastlines(color=\"red\")\n",
    "ax.set_title(label=\"Global Elevation Map\", fontsize=15)\n",
    "\n",
    "show()"
   ]
  },
  {
   "cell_type": "code",
   "execution_count": null,
   "id": "4217dc5f-0d20-4736-84f2-455710a69fe7",
   "metadata": {},
   "outputs": [],
   "source": [
    "image = ee.Image(\"LANDSAT/LC08/C01/T1_SR/LC08_044034_20140318\")\n",
    "vis = {\"bands\": [\"B5\", \"B4\", \"B3\"], \"min\": 0, \"max\": 5000, \"gamma\": 1.3}"
   ]
  },
  {
   "cell_type": "code",
   "execution_count": null,
   "id": "e7b2f0c6-5943-4916-b075-523474fca03b",
   "metadata": {},
   "outputs": [],
   "source": [
    "fig = plt.figure(figsize=(15, 10))\n",
    "\n",
    "ax = cartoee.get_map(image, vis_params=vis)\n",
    "cartoee.pad_view(ax)\n",
    "cartoee.add_gridlines(ax, interval=0.5, xtick_rotation=45, linestyle=\":\")\n",
    "ax.coastlines(color=\"yellow\")\n",
    "\n",
    "show()"
   ]
  },
  {
   "cell_type": "code",
   "execution_count": null,
   "id": "aa2a9178-9bb8-42b6-b1b5-5852c00cd1c5",
   "metadata": {},
   "outputs": [],
   "source": [
    "fig = plt.figure(figsize=(15, 10))\n",
    "\n",
    "zoom_region = [-121.8025, 37.3458, -122.6265, 37.9178]\n",
    "ax = cartoee.get_map(image, vis_params=vis, region=zoom_region)\n",
    "cartoee.add_gridlines(ax, interval=0.15, xtick_rotation=45, linestyle=\":\")\n",
    "ax.coastlines(color=\"yellow\")\n",
    "\n",
    "show()"
   ]
  },
  {
   "cell_type": "code",
   "execution_count": null,
   "id": "8d1e02dc-c787-4897-ac64-31d980240203",
   "metadata": {},
   "outputs": [],
   "source": [
    "fig = plt.figure(figsize=(15, 10))\n",
    "zoom_region = [-121.8025, 37.3458, -122.6265, 37.9178]\n",
    "\n",
    "ax = cartoee.get_map(image, vis_params=vis, region=zoom_region)\n",
    "cartoee.add_gridlines(ax, interval=0.15, xtick_rotation=45, linestyle=\":\")\n",
    "ax.coastlines(color=\"yellow\")\n",
    "cartoee.add_north_arrow(\n",
    "    ax, text=\"N\", xy=(0.05, 0.25), text_color=\"white\", arrow_color=\"white\", fontsize=20\n",
    ")\n",
    "cartoee.add_scale_bar_lite(\n",
    "    ax, length=10, xy=(0.1, 0.05), fontsize=20, color=\"white\", unit=\"km\"\n",
    ")\n",
    "ax.set_title(label=\"Landsat False Color Composite (Band 5/4/3)\", fontsize=15)\n",
    "\n",
    "show()"
   ]
  },
  {
   "cell_type": "code",
   "execution_count": null,
   "id": "a4b63063-067f-4f6b-ab56-a18d4e03d367",
   "metadata": {},
   "outputs": [],
   "source": [
    "import cartopy.crs as ccrs\n",
    "import matplotlib.pyplot as plt\n",
    "import cartopy\n",
    "\n",
    "fig, (ax1, ax2) = plt.subplots(1,2, figsize=(24, 7), subplot_kw={\"projection\": ccrs.PlateCarree()})\n",
    "fig.suptitle('Comparison of 1970-2000 and 2070-2100 Soil Moisture Content')\n",
    "\n",
    "ax1.set_title('Under SSP245 Scenario')\n",
    "ax1.set_aspect('equal', adjustable=None)\n",
    "ax1.add_feature(cartopy.feature.BORDERS, linestyle='-', alpha=1)\n",
    "ax1.add_feature(cartopy.feature.OCEAN, zorder=100, edgecolor='k')\n",
    "ax1.coastlines()\n",
    "ax1.gridlines(draw_labels=True)\n",
    "\n",
    "ax2.set_title('Under SSP585 Scenario', fontsize=14, va='bottom', backgroundcolor=\"white\")\n",
    "ax2.add_feature(cartopy.feature.BORDERS, linestyle='-', alpha=1)\n",
    "ax2.add_feature(cartopy.feature.OCEAN, zorder=100, edgecolor='k')\n",
    "ax2.coastlines()\n",
    "ax2.gridlines(draw_labels=True)\n",
    "\n",
    "plt.show()"
   ]
  }
 ],
 "metadata": {
  "kernelspec": {
   "display_name": "Python [conda env:R-MINI~1]",
   "language": "python",
   "name": "conda-env-R-MINI_1-py"
  },
  "language_info": {
   "codemirror_mode": {
    "name": "ipython",
    "version": 3
   },
   "file_extension": ".py",
   "mimetype": "text/x-python",
   "name": "python",
   "nbconvert_exporter": "python",
   "pygments_lexer": "ipython3",
   "version": "3.8.19"
  }
 },
 "nbformat": 4,
 "nbformat_minor": 5
}

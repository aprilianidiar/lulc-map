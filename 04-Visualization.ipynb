{
 "cells": [
  {
   "cell_type": "code",
   "execution_count": null,
   "id": "ce16db38-da9d-439e-a1c8-815de258075f",
   "metadata": {
    "scrolled": true
   },
   "outputs": [],
   "source": [
    "!pip install pygis\n",
    "!pip install cartopy"
   ]
  },
  {
   "cell_type": "markdown",
   "id": "bf1e98c8-1486-461f-ba4c-6dae768440f9",
   "metadata": {},
   "source": [
    "Reference to this module: [cartoee](https://geemap.org/notebooks/50_cartoee_quickstart/)"
   ]
  },
  {
   "cell_type": "code",
   "execution_count": null,
   "id": "c9dc734f-121c-4aaa-8922-78227d0682c2",
   "metadata": {},
   "outputs": [],
   "source": [
    "%pylab inline\n",
    "import ee \n",
    "import geemap\n",
    "from geemap import cartoee"
   ]
  },
  {
   "cell_type": "code",
   "execution_count": null,
   "id": "6b85f3c3-ab2f-488f-b494-b3c9395bf855",
   "metadata": {},
   "outputs": [],
   "source": [
    "geemap.ee_initialize()"
   ]
  },
  {
   "cell_type": "markdown",
   "id": "49516b99-8b2c-431d-a5a1-b57118d97ca9",
   "metadata": {},
   "source": [
    "# Plot Image: Singleband"
   ]
  },
  {
   "cell_type": "code",
   "execution_count": null,
   "id": "6f1188bf-df05-41f1-84aa-fd9aabb5412b",
   "metadata": {},
   "outputs": [],
   "source": [
    "srtm = ee.Image(\"CGIAR/SRTM90_V4\")\n",
    "region = [180, -60, -180, 85]\n",
    "vis = {'min': 0, 'max': 3000}"
   ]
  },
  {
   "cell_type": "code",
   "execution_count": null,
   "id": "351babd4-aba4-455c-9717-94bcdc78187e",
   "metadata": {
    "scrolled": true
   },
   "outputs": [],
   "source": [
    "fig = plt.figure(figsize=(15, 9))\n",
    "\n",
    "ax = cartoee.get_map(srtm, region=region, vis_params=vis)\n",
    "cartoee.add_colorbar(ax, vis, loc=\"bottom\", label=\"Elevation (m)\", orientation=\"horizontal\")\n",
    "cartoee.add_gridlines(ax, interval=[60, 30], linestyle=\":\")\n",
    "ax.coastlines(color=\"red\")\n",
    "\n",
    "plt.show()"
   ]
  },
  {
   "cell_type": "code",
   "execution_count": null,
   "id": "bb3e68bb-c137-4e0d-adcb-72aaa73894e5",
   "metadata": {},
   "outputs": [],
   "source": [
    "fig = plt.figure(figsize=(15, 7))\n",
    "\n",
    "cmap = \"terrain\"\n",
    "\n",
    "ax = cartoee.get_map(srtm, region=region, vis_params=vis, cmap=cmap)\n",
    "cartoee.add_colorbar(\n",
    "    ax, vis, cmap=cmap, loc=\"right\", label=\"Elevation (m)\", orientation=\"vertical\"\n",
    ")\n",
    "\n",
    "cartoee.add_gridlines(ax, interval=[60, 30], linestyle=\"--\")\n",
    "ax.coastlines(color=\"red\")\n",
    "ax.set_title(label='Global Elevation Map', fontsize=15)\n",
    "\n",
    "plt.show()"
   ]
  },
  {
   "cell_type": "code",
   "execution_count": null,
   "id": "80dbe774-94ee-49cd-af25-d47f54b41de5",
   "metadata": {},
   "outputs": [],
   "source": [
    "cartoee.savefig(fig, fname=\"srtm.jpg\", dpi=300, bbox_inches='tight')"
   ]
  },
  {
   "cell_type": "markdown",
   "id": "fb5e8fae-d1d0-40ec-8e3a-a50c36e71fb2",
   "metadata": {},
   "source": [
    "# Plot Image: Multi-spectral"
   ]
  },
  {
   "cell_type": "code",
   "execution_count": null,
   "id": "4d7bd4da-c1eb-46b2-81b8-0e81c1fd2d60",
   "metadata": {},
   "outputs": [],
   "source": [
    "ROI = ee.FeatureCollection('FAO/GAUL/2015/level0').filter(ee.Filter.eq('ADM0_NAME', 'Cambodia'))\n",
    "\n",
    "def mask_clouds(image):\n",
    "  qa = image.select('QA60')\n",
    "\n",
    "  cloud_bit_mask = 1 << 10\n",
    "  cirrus_bit_mask = 1 << 11\n",
    "\n",
    "  mask = (\n",
    "      qa.bitwiseAnd(cloud_bit_mask).eq(0)\n",
    "      .And(qa.bitwiseAnd(cirrus_bit_mask).eq(0))\n",
    "  )\n",
    "\n",
    "  return image.updateMask(mask).divide(10000)\n",
    "\n",
    "def clip(image):\n",
    "    return image.clip(ROI)\n",
    "\n",
    "img_collect = (\n",
    "    ee.ImageCollection('COPERNICUS/S2_SR')\n",
    "    .filterBounds(ROI)\n",
    "    .filterDate('2023-01-01', '2023-03-28')\n",
    "    .filter(ee.Filter.lt('CLOUDY_PIXEL_PERCENTAGE', 20))\n",
    "    .map(mask_clouds)\n",
    "    .map(clip)\n",
    ")\n",
    "\n",
    "image = img_collect.reduce(ee.Reducer.percentile([20])).select(['B4_p20', 'B3_p20', 'B2_p20'])\n",
    "image"
   ]
  },
  {
   "cell_type": "code",
   "execution_count": null,
   "id": "d3ebd043-2f25-4f5c-b0a1-97cde0de7975",
   "metadata": {
    "scrolled": true
   },
   "outputs": [],
   "source": [
    "fig = plt.figure(figsize=(15, 10))\n",
    "\n",
    "vis = {\"bands\": ['B4_p20', 'B3_p20', 'B2_p20'], \"min\": 0.025, \"max\": 0.25, \"gamma\": 1.3}\n",
    "\n",
    "bbox = [102.32, 10.29, 108.06, 14.96]\n",
    "\n",
    "ax = cartoee.get_map(image, region=bbox, vis_params=vis)\n",
    "\n",
    "cartoee.pad_view(ax)\n",
    "cartoee.add_gridlines(ax, interval=0.5, xtick_rotation=0, linestyle=\":\")\n",
    "\n",
    "plt.show()"
   ]
  },
  {
   "cell_type": "code",
   "execution_count": null,
   "id": "96f25296-e516-4397-81d8-586d7191374b",
   "metadata": {},
   "outputs": [],
   "source": [
    "cartoee.savefig(fig, fname=\"cambodia-image.jpg\", dpi=300, bbox_inches='tight')"
   ]
  },
  {
   "cell_type": "markdown",
   "id": "6e4b1290-4020-44f2-bb1f-e828b69c59d0",
   "metadata": {},
   "source": [
    "# Adding more features of cartography"
   ]
  },
  {
   "cell_type": "code",
   "execution_count": null,
   "id": "6a95786b-be0b-4e34-9b4b-3cbebe0a71be",
   "metadata": {},
   "outputs": [],
   "source": [
    "fig = plt.figure(figsize=(15, 10))\n",
    "\n",
    "region = [102.32, 10.29, 108.06, 14.96]\n",
    "ax = cartoee.get_map(image, vis_params=vis, region=region)\n",
    "cartoee.add_gridlines(ax, interval=0.5, xtick_rotation=0, linestyle=\":\")\n",
    "cartoee.add_north_arrow(\n",
    "    ax, text=\"N\", xy=(0.05, 0.25), text_color=\"white\", arrow_color=\"white\", fontsize=20\n",
    ")\n",
    "cartoee.add_scale_bar_lite(\n",
    "    ax, length=10, xy=(0.1, 0.05), fontsize=20, color=\"white\", unit=\"km\"\n",
    ")\n",
    "ax.set_title(label='Cambodia Satellite Images (period: January - March 2023)', fontsize=15)\n",
    "\n",
    "plt.show()\n",
    "\n",
    "cartoee.savefig(fig, fname=\"cambodia-image.jpg\", dpi=300, bbox_inches='tight')"
   ]
  },
  {
   "cell_type": "markdown",
   "id": "e40aa4ee-f763-4a26-a1d1-f56e5bc708ec",
   "metadata": {},
   "source": [
    "# Seasonal NDVI"
   ]
  },
  {
   "cell_type": "code",
   "execution_count": null,
   "id": "005683f0-520e-49bc-9217-1207e0ae4b25",
   "metadata": {},
   "outputs": [],
   "source": [
    "import ee\n",
    "import cartoee as cee"
   ]
  },
  {
   "cell_type": "code",
   "execution_count": null,
   "id": "4edb0e80-a188-4feb-b84b-3ec055b003e9",
   "metadata": {},
   "outputs": [],
   "source": []
  }
 ],
 "metadata": {
  "kernelspec": {
   "display_name": "Python [conda env:R-MINI~1]",
   "language": "python",
   "name": "conda-env-R-MINI_1-py"
  },
  "language_info": {
   "codemirror_mode": {
    "name": "ipython",
    "version": 3
   },
   "file_extension": ".py",
   "mimetype": "text/x-python",
   "name": "python",
   "nbconvert_exporter": "python",
   "pygments_lexer": "ipython3",
   "version": "3.8.19"
  }
 },
 "nbformat": 4,
 "nbformat_minor": 5
}

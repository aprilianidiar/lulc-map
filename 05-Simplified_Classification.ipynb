{
 "cells": [
  {
   "cell_type": "code",
   "execution_count": 1,
   "id": "f700aef1",
   "metadata": {},
   "outputs": [],
   "source": [
    "!pip install geemap pycrs earthengine-api pygis cartopy pyproj --quiet --no-cache-dir "
   ]
  },
  {
   "cell_type": "code",
   "execution_count": 3,
   "id": "384f3eb3-7348-4410-aed4-fec00cabfa86",
   "metadata": {},
   "outputs": [
    {
     "data": {
      "text/html": [
       "\n",
       "            <style>\n",
       "                .geemap-dark {\n",
       "                    --jp-widgets-color: white;\n",
       "                    --jp-widgets-label-color: white;\n",
       "                    --jp-ui-font-color1: white;\n",
       "                    --jp-layout-color2: #454545;\n",
       "                    background-color: #383838;\n",
       "                }\n",
       "\n",
       "                .geemap-dark .jupyter-button {\n",
       "                    --jp-layout-color3: #383838;\n",
       "                }\n",
       "\n",
       "                .geemap-colab {\n",
       "                    background-color: var(--colab-primary-surface-color, white);\n",
       "                }\n",
       "\n",
       "                .geemap-colab .jupyter-button {\n",
       "                    --jp-layout-color3: var(--colab-primary-surface-color, white);\n",
       "                }\n",
       "            </style>\n",
       "            "
      ],
      "text/plain": [
       "<IPython.core.display.HTML object>"
      ]
     },
     "metadata": {},
     "output_type": "display_data"
    }
   ],
   "source": [
    "import geemap.foliumap as geemap\n",
    "import ee\n",
    "\n",
    "import matplotlib.pyplot as plt\n",
    "import numpy as np\n",
    "\n",
    "from geemap import cartoee\n",
    "import cartopy.crs as ccrs\n",
    "import cartopy"
   ]
  },
  {
   "cell_type": "code",
   "execution_count": 4,
   "id": "56697eda-469c-4e40-9233-420247a10025",
   "metadata": {},
   "outputs": [
    {
     "data": {
      "text/html": [
       "\n",
       "            <style>\n",
       "                .geemap-dark {\n",
       "                    --jp-widgets-color: white;\n",
       "                    --jp-widgets-label-color: white;\n",
       "                    --jp-ui-font-color1: white;\n",
       "                    --jp-layout-color2: #454545;\n",
       "                    background-color: #383838;\n",
       "                }\n",
       "\n",
       "                .geemap-dark .jupyter-button {\n",
       "                    --jp-layout-color3: #383838;\n",
       "                }\n",
       "\n",
       "                .geemap-colab {\n",
       "                    background-color: var(--colab-primary-surface-color, white);\n",
       "                }\n",
       "\n",
       "                .geemap-colab .jupyter-button {\n",
       "                    --jp-layout-color3: var(--colab-primary-surface-color, white);\n",
       "                }\n",
       "            </style>\n",
       "            "
      ],
      "text/plain": [
       "<IPython.core.display.HTML object>"
      ]
     },
     "metadata": {},
     "output_type": "display_data"
    }
   ],
   "source": [
    "ee.Initialize(project='ee-lc-trends')"
   ]
  },
  {
   "cell_type": "markdown",
   "id": "4ed5b315-0198-47cc-b7d9-a2aee1f6277a",
   "metadata": {},
   "source": [
    "generate general variable"
   ]
  },
  {
   "cell_type": "code",
   "execution_count": 5,
   "id": "d0518d93-9d84-4bae-ae00-ab6938d611e9",
   "metadata": {},
   "outputs": [
    {
     "data": {
      "text/html": [
       "\n",
       "            <style>\n",
       "                .geemap-dark {\n",
       "                    --jp-widgets-color: white;\n",
       "                    --jp-widgets-label-color: white;\n",
       "                    --jp-ui-font-color1: white;\n",
       "                    --jp-layout-color2: #454545;\n",
       "                    background-color: #383838;\n",
       "                }\n",
       "\n",
       "                .geemap-dark .jupyter-button {\n",
       "                    --jp-layout-color3: #383838;\n",
       "                }\n",
       "\n",
       "                .geemap-colab {\n",
       "                    background-color: var(--colab-primary-surface-color, white);\n",
       "                }\n",
       "\n",
       "                .geemap-colab .jupyter-button {\n",
       "                    --jp-layout-color3: var(--colab-primary-surface-color, white);\n",
       "                }\n",
       "            </style>\n",
       "            "
      ],
      "text/plain": [
       "<IPython.core.display.HTML object>"
      ]
     },
     "metadata": {},
     "output_type": "display_data"
    }
   ],
   "source": [
    "# boundaries\n",
    "roi = ee.FeatureCollection(\"FAO/GAUL/2015/level0\").filter(ee.Filter.eq('ADM0_NAME', 'Afghanistan'))\n",
    "\n",
    "\n",
    "# satellites or sensors\n",
    "L5 = ee.ImageCollection('LANDSAT/LT05/C02/T1_L2')\n",
    "L8 = ee.ImageCollection('LANDSAT/LC08/C02/T1_L2')\n",
    "\n",
    "# data training\n",
    "training = ee.FeatureCollection('projects/ee-lc-trends/assets/Training')\n",
    "\n",
    "# visualization parameter\n",
    "visClass = {\n",
    "    'min' : 0,\n",
    "    'max' : 12,\n",
    "    'palette' : [\n",
    "        '7f776a', # Urban Area\n",
    "        'd43531', # Orchards\n",
    "        '9bab3e', # Intensively Irrigated Agriculture Land\n",
    "        '984b34', # Irrigated Agriculture Land\n",
    "        '707c44', # Rainfed Agriculture\n",
    "        '76a680', # Forest\n",
    "        'c08c4d', # Rangeland\n",
    "        'bc4a1d', # Barren Land\n",
    "        '556b7e', # Marshes\n",
    "        '211f3a', # Waterbodies\n",
    "        '929592', # Permanent Snow\n",
    "        'FFFFFF', # Additonal-1\n",
    "        '000000', # Additional-2\n",
    "    ]\n",
    "}"
   ]
  },
  {
   "cell_type": "code",
   "execution_count": 6,
   "id": "7e0609bc-0245-47d8-99b7-29c00762baf6",
   "metadata": {},
   "outputs": [
    {
     "data": {
      "text/html": [
       "\n",
       "            <style>\n",
       "                .geemap-dark {\n",
       "                    --jp-widgets-color: white;\n",
       "                    --jp-widgets-label-color: white;\n",
       "                    --jp-ui-font-color1: white;\n",
       "                    --jp-layout-color2: #454545;\n",
       "                    background-color: #383838;\n",
       "                }\n",
       "\n",
       "                .geemap-dark .jupyter-button {\n",
       "                    --jp-layout-color3: #383838;\n",
       "                }\n",
       "\n",
       "                .geemap-colab {\n",
       "                    background-color: var(--colab-primary-surface-color, white);\n",
       "                }\n",
       "\n",
       "                .geemap-colab .jupyter-button {\n",
       "                    --jp-layout-color3: var(--colab-primary-surface-color, white);\n",
       "                }\n",
       "            </style>\n",
       "            "
      ],
      "text/plain": [
       "<IPython.core.display.HTML object>"
      ]
     },
     "metadata": {},
     "output_type": "display_data"
    }
   ],
   "source": [
    "def scale_factors (image):\n",
    "    optical_bands = image.select('SR_B.').multiply(2.75e-05).add(-0.2)\n",
    "    thermal_bands = image.select('ST_B6').multiply(0.00341802).add(149.0)\n",
    "    return image.addBands(optical_bands, None, True).addBands(thermal_bands, None, True)\n",
    "\n",
    "def clipping (image):\n",
    "    return image.clip(roi)"
   ]
  },
  {
   "cell_type": "markdown",
   "id": "277ec31f-79b5-41d8-bd67-a6b748540966",
   "metadata": {},
   "source": [
    "# try first year"
   ]
  },
  {
   "cell_type": "code",
   "execution_count": null,
   "id": "d924882b-1ee4-46ad-9735-1e8ffaa9552d",
   "metadata": {},
   "outputs": [],
   "source": [
    "image_col_90 = L5.filterDate('1990-01-01', '1990-12-31').filterBounds(roi)\n",
    "image_col_90 = image_col_90.filter(ee.Filter.lt('CLOUD_COVER', 20))\n",
    "image_col_90 = image_col_90.map(scale_factors)\n",
    "image_col_90 = image_col_90.map(clipping)\n",
    "\n",
    "image_90 = image_col_90.reduce(ee.Reducer.percentile([20]))\n",
    "image_90 = image_90.select(['SR_B1_p20', 'SR_B2_p20', 'SR_B3_p20', 'SR_B4_p20', 'SR_B5_p20', 'SR_B7_p20'])\n",
    "image_90 = image_90.rename(['blue', 'green', 'red', 'nir', 'swir1', 'swir2'])\n",
    "\n",
    "ndvi = image_90.normalizedDifference(['nir', 'red']).rename('ndvi')\n",
    "image_90 = image_90.addBands(ndvi)\n",
    "\n",
    "image_90 = image_90.select(['green', 'nir', 'swir2', 'ndvi'])\n",
    "\n",
    "image_90"
   ]
  },
  {
   "cell_type": "markdown",
   "id": "8b35e145-da53-428a-b26f-3f6049a8d721",
   "metadata": {},
   "source": [
    "adding the 5 years time series"
   ]
  },
  {
   "cell_type": "code",
   "execution_count": null,
   "id": "65a77fea-afca-46f4-a527-b3457ee363fe",
   "metadata": {},
   "outputs": [],
   "source": [
    "def timeseries(startY, endY, startM, endM):\n",
    "    image_col = L5.filterBounds(roi)\n",
    "    image_col = image_col.filter(ee.Filter.calendarRange(startY, endY, 'year')).filter(ee.Filter.calendarRange(startM, endM, 'month'))\n",
    "    image_col = image_col.filter(ee.Filter.lt('CLOUD_COVER', 20))\n",
    "    \n",
    "    image = image_col.reduce(ee.Reducer.percentile([20]))\n",
    "    image = image.clip(roi)\n",
    "    image = image.multiply(2.75e-05).add(-0.2)\n",
    "\n",
    "    image = image.select(['SR_B1_p20', 'SR_B2_p20', 'SR_B3_p20', 'SR_B4_p20', 'SR_B5_p20'])\n",
    "    image = image.rename(['blue', 'green', 'red', 'nir', 'swir'])\n",
    "    \n",
    "    ndvi = image.normalizedDifference(['nir', 'red']).rename('ndvi')\n",
    "    image = image.addBands(ndvi)\n",
    "\n",
    "    image_xx = image.select(['swir', 'ndvi'])\n",
    "    return ndvi\n",
    "\n",
    "image_1 = timeseries(1988, 1992, 1, 3).rename('image_1')\n",
    "image_2 = timeseries(1988, 1992, 4, 6).rename('image_2')\n",
    "image_3 = timeseries(1988, 1992, 7, 9).rename('image_3')\n",
    "image_4 = timeseries(1988, 1992, 10, 12).rename('image_4')"
   ]
  },
  {
   "cell_type": "code",
   "execution_count": null,
   "id": "eab188f6-4f56-4b9c-927c-e0d2ab3a416d",
   "metadata": {},
   "outputs": [],
   "source": [
    "image_90 = ee.Image([image_90, image_1, image_2, image_3, image_4])\n",
    "\n",
    "image_90"
   ]
  },
  {
   "cell_type": "code",
   "execution_count": null,
   "id": "f5553178-97f4-402e-95c3-36f8275e90d1",
   "metadata": {},
   "outputs": [],
   "source": [
    "task = ee.batch.Export.image.toAsset(\n",
    "    image = image_90,\n",
    "    description = 'Image 1990',\n",
    "    assetId = 'projects/ee-lc-trends/assets/image_90',\n",
    "    scale = 30\n",
    ")\n",
    "task.start()"
   ]
  },
  {
   "cell_type": "markdown",
   "id": "90c2e1f2-aa14-4341-98f2-26524f5281a1",
   "metadata": {},
   "source": [
    "sampling"
   ]
  },
  {
   "cell_type": "code",
   "execution_count": null,
   "id": "a5ef2a31-962a-4860-9290-507c3b9a3d4d",
   "metadata": {},
   "outputs": [],
   "source": [
    "sampled_gcp = image_90.sampleRegions(\n",
    "    collection=training, scale=30, geometries=True\n",
    ")"
   ]
  },
  {
   "cell_type": "code",
   "execution_count": null,
   "id": "cfd4de4d-ae21-479b-ae68-1ed0afeba971",
   "metadata": {},
   "outputs": [],
   "source": [
    "sampled_gcp = sampled_gcp.randomColumn()\n",
    "train_gcp = sampled_gcp.filter(ee.Filter.lt('random', 0.8))\n",
    "test_gcp = sampled_gcp.filter(ee.Filter.gte('random', 0.5))"
   ]
  },
  {
   "cell_type": "code",
   "execution_count": null,
   "id": "87442364-ab94-42f8-9fc9-8920b1607cc6",
   "metadata": {},
   "outputs": [],
   "source": [
    "trained = ee.Classifier.smileRandomForest(200).train(\n",
    "    features=train_gcp,\n",
    "    classProperty='landcover_',\n",
    "    inputProperties=image_90.bandNames()\n",
    ")\n",
    "classify = image_90.classify(trained)"
   ]
  },
  {
   "cell_type": "markdown",
   "id": "85bc7a0e-7e7d-4d0d-93c0-3706e92df88d",
   "metadata": {},
   "source": [
    "area limitation"
   ]
  },
  {
   "cell_type": "code",
   "execution_count": null,
   "id": "b6f2d7ae-3776-42f9-9df1-65d0cd23d6f0",
   "metadata": {
    "collapsed": true,
    "jupyter": {
     "outputs_hidden": true
    }
   },
   "outputs": [],
   "source": [
    "m = geemap.Map(center = [34.28, 66.28], zoom = 7)\n",
    "m.addLayer(classify, visClass, name=\"Classified 1990\")\n",
    "m"
   ]
  },
  {
   "cell_type": "code",
   "execution_count": null,
   "id": "311dd409-baca-427b-9810-4120c7500579",
   "metadata": {},
   "outputs": [],
   "source": [
    "fig = plt.figure(figsize=(15, 10))\n",
    "\n",
    "bbox = [73.33, 29.46, 59.36, 38.58]\n",
    "\n",
    "ax = cartoee.get_map(classify, vis_params=visClass, region=bbox)\n",
    "cartoee.add_gridlines(ax, interval=1, xtick_rotation=0, linestyle=\":\")\n",
    "\n",
    "ax.set_title(label='LULC 1990', fontsize=15)\n",
    "\n",
    "plt.show()"
   ]
  },
  {
   "cell_type": "markdown",
   "id": "5471a11d-3534-4537-ae8c-be657b68356b",
   "metadata": {},
   "source": [
    "# try another year"
   ]
  },
  {
   "cell_type": "code",
   "execution_count": null,
   "id": "76deaf73-d205-4bd5-9822-e682fa581521",
   "metadata": {},
   "outputs": [],
   "source": [
    "image_col_00 = ee.ImageCollection('LANDSAT/LT05/C02/T1_L2').filterDate('2000-01-01', '2000-12-31').filterBounds(roi)\n",
    "image_col_00 = image_col_90.filter(ee.Filter.lt('CLOUD_COVER', 20))\n",
    "\n",
    "image_00 = image_col_00.reduce(ee.Reducer.percentile([20]))\n",
    "image_00 = image_00.clip(roi)\n",
    "image_00 = image_00.multiply(2.75e-05).add(-0.2)\n",
    "image_00 = image_00.select(['SR_B1_p20', 'SR_B2_p20', 'SR_B3_p20', 'SR_B4_p20', 'SR_B5_p20'])\n",
    "\n",
    "image_00"
   ]
  },
  {
   "cell_type": "code",
   "execution_count": null,
   "id": "fc67b2c8-c92e-4647-af9e-67bde9fea153",
   "metadata": {},
   "outputs": [],
   "source": [
    "sampled_gcp_00 = image_00.sampleRegions(\n",
    "    collection=training, scale=30, geometries=True\n",
    ")"
   ]
  },
  {
   "cell_type": "code",
   "execution_count": null,
   "id": "67df9b51-379e-4433-906b-51cebd46255a",
   "metadata": {},
   "outputs": [],
   "source": [
    "sampled_gcp_00 = sampled_gcp_00.randomColumn()\n",
    "train_gcp_00 = sampled_gcp_00.filter(ee.Filter.lt('random', 0.8))\n",
    "test_gcp_00 = sampled_gcp_00.filter(ee.Filter.gte('random', 0.8))"
   ]
  },
  {
   "cell_type": "code",
   "execution_count": null,
   "id": "02ab83e6-f2a9-4fb8-a9d4-b3583fe4b336",
   "metadata": {},
   "outputs": [],
   "source": [
    "trained_00 = ee.Classifier.smileRandomForest(10).train(\n",
    "    features=train_gcp_00,\n",
    "    classProperty='CLASS_CODE',\n",
    "    inputProperties=image_00.bandNames()\n",
    ")\n",
    "classify_00 = image_00.classify(trained_00)"
   ]
  },
  {
   "cell_type": "markdown",
   "id": "9dd2efd2-139a-4367-9552-b52409f5152f",
   "metadata": {},
   "source": [
    "# try another year (2)"
   ]
  },
  {
   "cell_type": "code",
   "execution_count": null,
   "id": "75f27b36-af64-4b12-8d25-2fa0c5da6b6b",
   "metadata": {},
   "outputs": [],
   "source": [
    "image_col_10 = ee.ImageCollection('LANDSAT/LT05/C02/T1_L2').filterDate('2010-01-01', '2010-12-31').filterBounds(roi)\n",
    "image_col_10 = image_col_10.filter(ee.Filter.lt('CLOUD_COVER', 20))\n",
    "\n",
    "image_10 = image_col_10.reduce(ee.Reducer.percentile([20]))\n",
    "image_10 = image_10.clip(roi)\n",
    "image_10 = image_10.multiply(2.75e-05).add(-0.2)\n",
    "image_10 = image_10.select(['SR_B1_p20', 'SR_B2_p20', 'SR_B3_p20', 'SR_B4_p20', 'SR_B5_p20'])\n",
    "\n",
    "image_10"
   ]
  },
  {
   "cell_type": "code",
   "execution_count": null,
   "id": "36bff79c-8668-4b21-9aac-d13ce5ac02b4",
   "metadata": {},
   "outputs": [],
   "source": [
    "sampled_gcp_10 = image_10.sampleRegions(\n",
    "    collection=training, scale=30, geometries=True\n",
    ")\n",
    "\n",
    "sampled_gcp_10 = sampled_gcp_10.randomColumn()\n",
    "train_gcp_10 = sampled_gcp_10.filter(ee.Filter.lt('random', 0.8))\n",
    "test_gcp_10 = sampled_gcp_10.filter(ee.Filter.gte('random', 0.8))"
   ]
  },
  {
   "cell_type": "code",
   "execution_count": null,
   "id": "0709ae34-cfec-4fa8-ae09-c2ef5cbb8f46",
   "metadata": {},
   "outputs": [],
   "source": [
    "trained_10 = ee.Classifier.smileRandomForest(10).train(\n",
    "    features=train_gcp_10,\n",
    "    classProperty='CLASS_CODE',\n",
    "    inputProperties=image_10.bandNames()\n",
    ")\n",
    "classify_10 = image_10.classify(trained_10)"
   ]
  },
  {
   "cell_type": "markdown",
   "id": "17be5eef-7638-4584-be37-365670fd9eb5",
   "metadata": {},
   "source": [
    "# try another year (3)"
   ]
  },
  {
   "cell_type": "code",
   "execution_count": null,
   "id": "3755e810-db9d-4e3d-ac8d-a2749f93fd90",
   "metadata": {},
   "outputs": [],
   "source": [
    "image_col_20 = ee.ImageCollection('LANDSAT/LC08/C02/T1_L2').filterDate('2020-01-01', '2020-12-31').filterBounds(roi)\n",
    "image_col_20 = image_col_20.filter(ee.Filter.lt('CLOUD_COVER', 20))\n",
    "\n",
    "image_20 = image_col_20.reduce(ee.Reducer.percentile([20]))\n",
    "image_20 = image_20.clip(roi)\n",
    "image_20 = image_20.multiply(2.75e-05).add(-0.2)\n",
    "image_20 = image_20.select(['SR_B2_p20', 'SR_B3_p20', 'SR_B4_p20', 'SR_B5_p20', 'SR_B6_p20'])\n",
    "\n",
    "image_20"
   ]
  },
  {
   "cell_type": "code",
   "execution_count": null,
   "id": "1d2e571d-64cd-4838-b91f-e927a13a0ceb",
   "metadata": {},
   "outputs": [],
   "source": [
    "sampled_gcp_20 = image_20.sampleRegions(\n",
    "    collection=training, scale=30, geometries=True\n",
    ")\n",
    "\n",
    "sampled_gcp_20 = sampled_gcp_20.randomColumn()\n",
    "train_gcp_20 = sampled_gcp_20.filter(ee.Filter.lt('random', 0.8))\n",
    "test_gcp_20 = sampled_gcp_20.filter(ee.Filter.gte('random', 0.8))"
   ]
  },
  {
   "cell_type": "code",
   "execution_count": null,
   "id": "2e273874-5ffb-4af9-8051-0aa2d0a93429",
   "metadata": {},
   "outputs": [],
   "source": [
    "trained_20 = ee.Classifier.smileRandomForest(10).train(\n",
    "    features=train_gcp_20,\n",
    "    classProperty='CLASS_CODE',\n",
    "    inputProperties=image_20.bandNames()\n",
    ")\n",
    "classify_20 = image_20.classify(trained_20)"
   ]
  },
  {
   "cell_type": "code",
   "execution_count": null,
   "id": "3eb1cd33",
   "metadata": {},
   "outputs": [],
   "source": [
    "from osgeo import gdal\n",
    "from osgeo import osr \n",
    "import time\n",
    "\n",
    "timedate = image_20.get('GENERATION_TIME').getInfo()\n",
    "latlon = ee.Image.pixelLonLat()\n",
    "latlon = latlon.reduceRegion(\n",
    "    reducer=ee.Reducer.toList(),\n",
    "    geometry=roi,\n",
    "    maxPixels=1e10,\n",
    "    scale=30,\n",
    ")\n",
    "\n",
    "data = np.array(ee.Array(latlon.get(\"nd\")).getInfo())\n",
    "lats = np.array(ee.Array(latlon.get(\"latitude\")).getInfo())\n",
    "lons = np.array(ee.Array(latlon.get(\"longitude\")).getInfo())\n",
    "\n",
    "unique_lats = np.unique(lats)\n",
    "unique_lons = np.unique(lons)\n",
    "\n",
    "ncols = len(unique_lons)\n",
    "nrows = len(unique_lats)\n",
    "\n",
    "ys = unique_lats[1] - unique_lats[0]\n",
    "xs = unique_lons[1] - unique_lons[0]\n",
    "\n",
    "arr = np.zeros([nrows, ncols], np.float32)\n",
    "\n",
    "# fill array with value\n",
    "counter = 0\n",
    "for y in range(0, len(arr), 1):\n",
    "    for x in range(0, len(arr[0]), 1):\n",
    "        if lats[counter] == unique_lats[y] and lons[counter] == unique_lons[x] and counter < len(lats)-1:\n",
    "            counter+=1\n",
    "            arr[len(unique_lats)-1-y, x] = data[counter]"
   ]
  },
  {
   "cell_type": "code",
   "execution_count": null,
   "id": "97e61aad-fc28-4153-be41-8ecd047a111c",
   "metadata": {},
   "outputs": [],
   "source": [
    "m = geemap.Map(center = [34.28, 66.28], zoom = 7)\n",
    "m.addLayer(classify, visClass, name=\"Classified 1990\")\n",
    "m.addLayer(classify_00, visClass, name=\"Classified 2000\")\n",
    "m.addLayer(classify_10, visClass, name=\"Classified 2010\")\n",
    "m.addLayer(classify_20, visClass, name=\"Classified 2020\")\n",
    "m"
   ]
  },
  {
   "cell_type": "markdown",
   "id": "5da0bdec-1d4f-4aa8-9a17-8a9ed8a60fad",
   "metadata": {},
   "source": [
    "# map out over four years"
   ]
  },
  {
   "cell_type": "code",
   "execution_count": null,
   "id": "c30b7456-1d32-44e0-87b3-9a253502fc55",
   "metadata": {},
   "outputs": [],
   "source": [
    "fig = plt.figure(figsize=(15, 10))\n",
    "\n",
    "bbox = [73.33, 29.46, 59.36, 38.58]\n",
    "\n",
    "ax = cartoee.get_map(classify_20, vis_params=visClass, region=bbox)\n",
    "cartoee.add_gridlines(ax, interval=1, xtick_rotation=0, linestyle=\":\")\n",
    "\n",
    "ax.set_title(label='LULC 2020', fontsize=15)\n",
    "\n",
    "# plt.legend([\n",
    "#     'Permanent Snow',\n",
    "#     'Forest',\n",
    "#     'Urban Area',\n",
    "#     'Waterbodies',\n",
    "#     'Irrigated Agriculture Land',\n",
    "#     'Rangeland',\n",
    "#     'Barren Land'\n",
    "# ], )\n",
    "\n",
    "cartoee.add_north_arrow(\n",
    "    ax, text=\"N\", xy=(0.05, 0.25), text_color=\"black\", arrow_color=\"black\", fontsize=20\n",
    ")\n",
    "\n",
    "# cartoee.add_scale_bar_lite(\n",
    "#     ax, length=10, xy=(0.1, 0.05), fontsize=20, color=\"white\", unit=\"km\"\n",
    "# )\n",
    "\n",
    "plt.show()\n",
    "\n",
    "# cartoee.savefig(fig, fname=\"LULC-2020.jpg\", dpi=300, bbox_inches='tight')"
   ]
  },
  {
   "cell_type": "code",
   "execution_count": null,
   "id": "e6e49685-753b-49e7-a399-7b79ba3f37b6",
   "metadata": {},
   "outputs": [],
   "source": [
    "fig, ax = plt.subplots(ncols=2, nrows=2, figsize=(24,7), \n",
    "                               subplot_kw={\"projection\": ccrs.Mercator()})\n",
    "fig.suptitle('Comparison of LULC in Afghanistan over the decades')\n",
    "\n",
    "bbox = [73.33, 29.46, 59.36, 38.58]\n",
    "\n",
    "imgs = np.array([[classify, classify_00], [classify_10, classify_20]])\n",
    "titles = np.array([['Year 1990', 'Year 2000'], ['Year 2010', 'Year 2020']])\n",
    "\n",
    "def ax(i,j):\n",
    "    for i in range(len(imgs)):\n",
    "        for j in range(len(imgs[i])):\n",
    "            ax[i,j] = cartoee.add_layer(imgs[i,j], ax=ax[i,j],\n",
    "                                      region=bbox,\n",
    "                                       visParams=visClass\n",
    "                                      )\n",
    "            ax[i,j].coastlines()\n",
    "            ax[i,j].gridlines(linestyle='-')\n",
    "            ax[i,j].set_title(titles[i,j])\n",
    "\n",
    "plt.tight_layout()\n",
    "cax = fig.add_axes([0.9, 0.2, 0.02, 0.6])\n",
    "\n",
    "plt.show()"
   ]
  },
  {
   "cell_type": "code",
   "execution_count": null,
   "id": "a41176f9-296d-4b78-92d7-a7273556507f",
   "metadata": {},
   "outputs": [],
   "source": [
    "lc_gt_val = geemap.shp_to_ee('./afg/afg_val.shp')\n",
    "\n",
    "validation_class = classify.sampleRegions(lc_gt_val, scale=30)\n",
    "\n",
    "task = ee.batch.Export.table.toDrive(validation_class.select(['lc_id', 'classification']), description='tableForValidation',fileFormat='CSV')\n",
    "task.start()"
   ]
  },
  {
   "cell_type": "code",
   "execution_count": null,
   "id": "6855c9c1-0e55-474d-a339-c29bfc443b08",
   "metadata": {},
   "outputs": [],
   "source": [
    "import pandas as pd\n",
    "\n",
    "df = pd.read_csv('./tableForValidation.csv')\n",
    "\n",
    "print(len(df[df['lc_id'] == df['classification']])/len(df['lc_id']))\n",
    "\n",
    "for i1 in range(0,6+1):\n",
    "  df_i1 = df[df['lc_id'] == i1]\n",
    "\n",
    "  t_list = []\n",
    "  for i2 in range(0,6+1):\n",
    "    t_list.append( len(df_i1[df_i1['classification'] == i2]) )\n",
    "\n",
    "  t_list = np.array(t_list)\n",
    "\n",
    "  print(i1, np.round(t_list/np.sum(t_list)*100))"
   ]
  },
  {
   "cell_type": "code",
   "execution_count": null,
   "id": "c6a46dac-821f-4178-8919-044e93927f8c",
   "metadata": {},
   "outputs": [],
   "source": [
    "task = ee.batch.Export.image.toDrive(\n",
    "    image=classify,\n",
    "    description='Classified Image',\n",
    "    folder='Google Earth Engine',\n",
    "    region=roi\n",
    ")\n",
    "task.start()"
   ]
  }
 ],
 "metadata": {
  "kernelspec": {
   "display_name": "base",
   "language": "python",
   "name": "python3"
  },
  "language_info": {
   "codemirror_mode": {
    "name": "ipython",
    "version": 3
   },
   "file_extension": ".py",
   "mimetype": "text/x-python",
   "name": "python",
   "nbconvert_exporter": "python",
   "pygments_lexer": "ipython3",
   "version": "3.12.3"
  }
 },
 "nbformat": 4,
 "nbformat_minor": 5
}

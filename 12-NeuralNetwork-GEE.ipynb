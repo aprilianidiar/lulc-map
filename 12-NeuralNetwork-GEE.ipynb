{
 "cells": [
  {
   "cell_type": "code",
   "execution_count": 2,
   "metadata": {},
   "outputs": [
    {
     "name": "stderr",
     "output_type": "stream",
     "text": [
      "WARNING: Skipping C:\\Users\\april\\miniconda3\\envs\\carto\\Lib\\site-packages\\netCDF4-1.6.5.dist-info due to invalid metadata entry 'name'\n",
      "WARNING: Skipping C:\\Users\\april\\miniconda3\\envs\\carto\\Lib\\site-packages\\netCDF4-1.6.5.dist-info due to invalid metadata entry 'name'\n",
      "WARNING: Skipping C:\\Users\\april\\miniconda3\\envs\\carto\\Lib\\site-packages\\netCDF4-1.6.5.dist-info due to invalid metadata entry 'name'\n",
      "WARNING: Skipping C:\\Users\\april\\miniconda3\\envs\\carto\\Lib\\site-packages\\netCDF4-1.6.5.dist-info due to invalid metadata entry 'name'\n",
      "WARNING: Skipping C:\\Users\\april\\miniconda3\\envs\\carto\\Lib\\site-packages\\netCDF4-1.6.5.dist-info due to invalid metadata entry 'name'\n",
      "WARNING: Skipping C:\\Users\\april\\miniconda3\\envs\\carto\\Lib\\site-packages\\netCDF4-1.6.5.dist-info due to invalid metadata entry 'name'\n"
     ]
    }
   ],
   "source": [
    "!pip install geemap pycrs numpy tensorflow earthengine-api netcdf4 --quiet --no-cache-dir"
   ]
  },
  {
   "cell_type": "code",
   "execution_count": null,
   "metadata": {},
   "outputs": [],
   "source": [
    "!pip3 install -U pip --quiet --no-cache-dir"
   ]
  },
  {
   "cell_type": "code",
   "execution_count": null,
   "metadata": {},
   "outputs": [],
   "source": [
    "!pip3 install -U six numpy wheel packaging --quiet --no-cache-dir"
   ]
  },
  {
   "cell_type": "code",
   "execution_count": null,
   "metadata": {},
   "outputs": [],
   "source": [
    "!pip3 install -U keras_preprocessing --no-deps"
   ]
  },
  {
   "cell_type": "code",
   "execution_count": null,
   "metadata": {},
   "outputs": [],
   "source": [
    "import ee\n",
    "import geemap\n",
    "import tensorflow as tf\n",
    "from tensorflow import keras\n",
    "import numpy as np\n",
    "import geopandas as gpd\n",
    "import matplotlib.pyplot as plt\n",
    "\n",
    "ee.Initialize(project='ee-lc-trends')"
   ]
  },
  {
   "cell_type": "code",
   "execution_count": null,
   "metadata": {},
   "outputs": [],
   "source": [
    "training = './afg/Training.shp'\n",
    "df_training = gpd.read_file(training)\n",
    "\n",
    "df_training"
   ]
  },
  {
   "cell_type": "code",
   "execution_count": null,
   "metadata": {},
   "outputs": [],
   "source": [
    "df_training = df_training.set_geometry('geometry')\n",
    "df_training.shape"
   ]
  },
  {
   "cell_type": "code",
   "execution_count": null,
   "metadata": {},
   "outputs": [],
   "source": [
    "len(df_training['landcover_'].value_counts())\n",
    "\n",
    "fig, ax = plt.subplots(1, 1, figsize=(15, 15))\n",
    "df_training.plot(ax=ax, column='landcover_', legend=True, cmap='viridis')"
   ]
  },
  {
   "cell_type": "code",
   "execution_count": null,
   "metadata": {},
   "outputs": [],
   "source": [
    "longitude = [34.544215]\n",
    "latitude = [69.166096]\n",
    "poi = gpd.points_from_xy(longitude, latitude)\n",
    "\n",
    "df_training['distance'] = df_training['geometry'].distance(poi[0])"
   ]
  },
  {
   "cell_type": "code",
   "execution_count": 1,
   "metadata": {},
   "outputs": [
    {
     "ename": "NameError",
     "evalue": "name 'df_training' is not defined",
     "output_type": "error",
     "traceback": [
      "\u001b[1;31m---------------------------------------------------------------------------\u001b[0m",
      "\u001b[1;31mNameError\u001b[0m                                 Traceback (most recent call last)",
      "Cell \u001b[1;32mIn[1], line 1\u001b[0m\n\u001b[1;32m----> 1\u001b[0m df \u001b[38;5;241m=\u001b[39m \u001b[43mdf_training\u001b[49m\u001b[38;5;241m.\u001b[39msort_values(by\u001b[38;5;241m=\u001b[39m\u001b[38;5;124m'\u001b[39m\u001b[38;5;124mdistance\u001b[39m\u001b[38;5;124m'\u001b[39m, ascending\u001b[38;5;241m=\u001b[39m\u001b[38;5;28;01mTrue\u001b[39;00m)\n\u001b[0;32m      2\u001b[0m df \u001b[38;5;241m=\u001b[39m df[df[\u001b[38;5;124m'\u001b[39m\u001b[38;5;124mdistance\u001b[39m\u001b[38;5;124m'\u001b[39m] \u001b[38;5;241m<\u001b[39m \u001b[38;5;241m0.2\u001b[39m]\n\u001b[0;32m      4\u001b[0m fig, ax \u001b[38;5;241m=\u001b[39m plt\u001b[38;5;241m.\u001b[39msubplots(\u001b[38;5;241m1\u001b[39m, \u001b[38;5;241m1\u001b[39m, figsize\u001b[38;5;241m=\u001b[39m(\u001b[38;5;241m15\u001b[39m, \u001b[38;5;241m15\u001b[39m))\n",
      "\u001b[1;31mNameError\u001b[0m: name 'df_training' is not defined"
     ]
    }
   ],
   "source": [
    "df = df_training.sort_values(by='distance', ascending=True)\n",
    "df = df[df['distance'] < 0.2]\n",
    "\n",
    "fig, ax = plt.subplots(1, 1, figsize=(15, 15))\n",
    "df.plot(ax=ax, column='landcover_', legend=True, cmap='viridis')"
   ]
  },
  {
   "cell_type": "code",
   "execution_count": null,
   "metadata": {},
   "outputs": [],
   "source": [
    "# from Google Cloud Storage\n",
    "PROJECT = 'ee-lc-trends'\n",
    "REGION = 'us'\n",
    "\n",
    "TRAIN_FILE_PATH = 'gs://afg-lulc/1990-Badghis-Testing.tfrecord.gz'\n",
    "TEST_FILE_PATH = 'gs://afg-lulc/1990-Badghis-Testing.tfrecord.gz'\n",
    "\n",
    "# for output\n",
    "MODEL_DIR = 'gs://afg-lulc/1990-Model'\n",
    "MODEL_NAME = '1990-Badghis'\n",
    "VERSION_NAME = 'V0'\n",
    "\n",
    "IMAGE_PREFIX = 'AFG_L5-1990-Badghis'\n",
    "OUTPUT_IMAGE_FILE = 'gs://afg-lulc/1990-Badghis.TFRecord'\n",
    "OUTPUT_ASSET_ID = 'projects/ee-lc-trends/assets/1990-Badghis'"
   ]
  },
  {
   "cell_type": "code",
   "execution_count": null,
   "metadata": {},
   "outputs": [],
   "source": [
    "train_dataset = tf.data.TFRecordDataset(TRAIN_FILE_PATH, compression_type='GZIP')\n",
    "iter(train_dataset).next()"
   ]
  }
 ],
 "metadata": {
  "kernelspec": {
   "display_name": "base",
   "language": "python",
   "name": "python3"
  },
  "language_info": {
   "codemirror_mode": {
    "name": "ipython",
    "version": 3
   },
   "file_extension": ".py",
   "mimetype": "text/x-python",
   "name": "python",
   "nbconvert_exporter": "python",
   "pygments_lexer": "ipython3",
   "version": "3.12.3"
  }
 },
 "nbformat": 4,
 "nbformat_minor": 2
}

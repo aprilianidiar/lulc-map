{
 "cells": [
  {
   "cell_type": "code",
   "execution_count": 1,
   "metadata": {},
   "outputs": [],
   "source": [
    "import os\n",
    "import sys\n",
    "import subprocess\n",
    "import glob\n",
    "import string\n",
    "from osgeo import gdal"
   ]
  },
  {
   "cell_type": "code",
   "execution_count": 2,
   "metadata": {},
   "outputs": [],
   "source": [
    "input_files = glob.glob(\"LULC_2020*.tif\")\n",
    "output_file = \"./output/LULC_2020.tiff\""
   ]
  },
  {
   "cell_type": "code",
   "execution_count": 4,
   "metadata": {},
   "outputs": [
    {
     "ename": "ValueError",
     "evalue": "Received a NULL pointer.",
     "output_type": "error",
     "traceback": [
      "\u001b[1;31m---------------------------------------------------------------------------\u001b[0m",
      "\u001b[1;31mValueError\u001b[0m                                Traceback (most recent call last)",
      "Cell \u001b[1;32mIn[4], line 20\u001b[0m\n\u001b[0;32m     17\u001b[0m vrt_file \u001b[38;5;241m=\u001b[39m \u001b[38;5;124m\"\u001b[39m\u001b[38;5;124m./output/merged.vrt\u001b[39m\u001b[38;5;124m\"\u001b[39m\n\u001b[0;32m     18\u001b[0m gdal\u001b[38;5;241m.\u001b[39mBuildVRT(vrt_file, input_files)\n\u001b[1;32m---> 20\u001b[0m \u001b[43mgdal\u001b[49m\u001b[38;5;241;43m.\u001b[39;49m\u001b[43mTranslate\u001b[49m\u001b[43m(\u001b[49m\u001b[43moutput_file\u001b[49m\u001b[43m,\u001b[49m\u001b[43m \u001b[49m\u001b[43mvrt_file\u001b[49m\u001b[43m)\u001b[49m\n\u001b[0;32m     22\u001b[0m \u001b[38;5;28;01mfor\u001b[39;00m new_name, original_name \u001b[38;5;129;01min\u001b[39;00m original_names\u001b[38;5;241m.\u001b[39mitems():\n\u001b[0;32m     23\u001b[0m     os\u001b[38;5;241m.\u001b[39mrename(new_name, original_name)\n",
      "File \u001b[1;32mc:\\Users\\april\\miniconda3\\envs\\carto\\Lib\\site-packages\\osgeo\\gdal.py:844\u001b[0m, in \u001b[0;36mTranslate\u001b[1;34m(destName, srcDS, **kwargs)\u001b[0m\n\u001b[0;32m    841\u001b[0m \u001b[38;5;28;01mif\u001b[39;00m \u001b[38;5;28misinstance\u001b[39m(srcDS, (\u001b[38;5;28mstr\u001b[39m, os\u001b[38;5;241m.\u001b[39mPathLike)):\n\u001b[0;32m    842\u001b[0m     srcDS \u001b[38;5;241m=\u001b[39m Open(srcDS)\n\u001b[1;32m--> 844\u001b[0m \u001b[38;5;28;01mreturn\u001b[39;00m \u001b[43mTranslateInternal\u001b[49m\u001b[43m(\u001b[49m\u001b[43mdestName\u001b[49m\u001b[43m,\u001b[49m\u001b[43m \u001b[49m\u001b[43msrcDS\u001b[49m\u001b[43m,\u001b[49m\u001b[43m \u001b[49m\u001b[43mopts\u001b[49m\u001b[43m,\u001b[49m\u001b[43m \u001b[49m\u001b[43mcallback\u001b[49m\u001b[43m,\u001b[49m\u001b[43m \u001b[49m\u001b[43mcallback_data\u001b[49m\u001b[43m)\u001b[49m\n",
      "File \u001b[1;32mc:\\Users\\april\\miniconda3\\envs\\carto\\Lib\\site-packages\\osgeo\\gdal.py:8978\u001b[0m, in \u001b[0;36mTranslateInternal\u001b[1;34m(*args)\u001b[0m\n\u001b[0;32m   8976\u001b[0m \u001b[38;5;28;01mdef\u001b[39;00m \u001b[38;5;21mTranslateInternal\u001b[39m(\u001b[38;5;241m*\u001b[39margs):\n\u001b[0;32m   8977\u001b[0m \u001b[38;5;250m    \u001b[39m\u001b[38;5;124mr\u001b[39m\u001b[38;5;124;03m\"\"\"TranslateInternal(char const * dest, Dataset dataset, GDALTranslateOptions translateOptions, GDALProgressFunc callback=0, void * callback_data=None) -> Dataset\"\"\"\u001b[39;00m\n\u001b[1;32m-> 8978\u001b[0m     \u001b[38;5;28;01mreturn\u001b[39;00m \u001b[43m_gdal\u001b[49m\u001b[38;5;241;43m.\u001b[39;49m\u001b[43mTranslateInternal\u001b[49m\u001b[43m(\u001b[49m\u001b[38;5;241;43m*\u001b[39;49m\u001b[43margs\u001b[49m\u001b[43m)\u001b[49m\n",
      "\u001b[1;31mValueError\u001b[0m: Received a NULL pointer."
     ]
    }
   ],
   "source": [
    "original_names = {}\n",
    "\n",
    "characters = string.digits + string.ascii_letters\n",
    "j=0\n",
    "for i, file in enumerate(input_files):\n",
    "    new_name = ''.join(characters[i%len(characters)] + characters[1//len(characters)] + \".t\")\n",
    "    while os.path.exists(new_name) or new_name.lower() in [f.lower() for f in os.listdir()]:\n",
    "        i+= 1\n",
    "        new_name = ''.join(characters[i%len(characters)] + characters[i//len(characters)] + \".t\")\n",
    "    os.rename(file, new_name)\n",
    "    original_names[new_name] = file\n",
    "    input_files[j] = new_name\n",
    "    j += 1\n",
    "\n",
    "input_string = \" \".join(input_files)\n",
    "\n",
    "vrt_file = \"./output/merged.vrt\"\n",
    "gdal.BuildVRT(vrt_file, input_files)\n",
    "\n",
    "gdal.Translate(output_file, vrt_file)\n",
    "\n",
    "for new_name, original_name in original_names.items():\n",
    "    os.rename(new_name, original_name)\n",
    "\n",
    "os.remove(vrt_file)"
   ]
  }
 ],
 "metadata": {
  "kernelspec": {
   "display_name": "Python 3",
   "language": "python",
   "name": "python3"
  },
  "language_info": {
   "codemirror_mode": {
    "name": "ipython",
    "version": 3
   },
   "file_extension": ".py",
   "mimetype": "text/x-python",
   "name": "python",
   "nbconvert_exporter": "python",
   "pygments_lexer": "ipython3",
   "version": "3.12.3"
  }
 },
 "nbformat": 4,
 "nbformat_minor": 2
}

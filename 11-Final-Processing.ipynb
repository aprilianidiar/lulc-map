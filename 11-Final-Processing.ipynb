{
 "cells": [
  {
   "cell_type": "markdown",
   "metadata": {},
   "source": [
    "# Load Data\n",
    "Loading Satellite data using Landsat API"
   ]
  },
  {
   "cell_type": "markdown",
   "metadata": {},
   "source": [
    "## a) earthaccess"
   ]
  },
  {
   "cell_type": "code",
   "execution_count": 1,
   "metadata": {},
   "outputs": [],
   "source": [
    "import earthaccess\n",
    "import pandas as pd\n",
    "import geopandas as gp\n",
    "from pprint import pprint\n",
    "\n",
    "auth = earthaccess.login(persist=True)\n",
    "username = 'aprilianidia'\n",
    "password = '28Maret1991!'"
   ]
  },
  {
   "cell_type": "code",
   "execution_count": null,
   "metadata": {},
   "outputs": [],
   "source": [
    "roi = gp.read_file('./afg/geoBoundaries-AFG-ADM0.geojson')\n",
    "bbox = tuple(list(roi.total_bounds))\n",
    "bbox"
   ]
  },
  {
   "cell_type": "code",
   "execution_count": null,
   "metadata": {},
   "outputs": [],
   "source": [
    "dataset = earthaccess.search_data(\n",
    "    short_name='HLSL30',\n",
    "    cloud_cover=(0,20),\n",
    "    bounding_box=bbox,\n",
    "    temporal=(\"2020-01-01T00:00:00\", \"2020-12-31T23:59:59\"),\n",
    "    count=5,\n",
    ")\n",
    "\n",
    "pd.json_normalize(dataset).head()"
   ]
  },
  {
   "cell_type": "code",
   "execution_count": null,
   "metadata": {},
   "outputs": [],
   "source": [
    "urls = [granule.data_links() for granule in dataset]\n",
    "urls[0:2]"
   ]
  },
  {
   "cell_type": "code",
   "execution_count": null,
   "metadata": {},
   "outputs": [],
   "source": [
    "data_links = [{'links': granule.data_links(access=\"on_prem\"), 'size (MB):' : granule.size()} for granule in dataset]\n",
    "data_links"
   ]
  },
  {
   "cell_type": "code",
   "execution_count": null,
   "metadata": {},
   "outputs": [],
   "source": [
    "from skimage import io\n",
    "import matplotlib.pyplot as plt\n",
    "\n",
    "browse_urls = [granule.dataviz_links()[0] for granule in dataset]\n",
    "\n",
    "image = io.imread(browse_urls[2])\n",
    "plt.figure(figsize=(10,10))\n",
    "plt.imshow(image)\n",
    "plt.show()"
   ]
  },
  {
   "cell_type": "code",
   "execution_count": null,
   "metadata": {},
   "outputs": [],
   "source": [
    "from osgeo import gdal\n",
    "\n",
    "gdal.SetConfigOption('GDAL_HTTP_COOKIEFILE', '~/cookies.txt')\n",
    "gdal.SetConfigOption('GDAL_HTTP_COOKIEJAR', '~/cookies.txt')\n",
    "gdal.SetConfigOption('GDAL_DISABLE_READDIR_ON_OPEN','EMPTY_DIR')\n",
    "gdal.SetConfigOption('CPL_VSIL_CURL_ALLOWED_EXTENSIONS','TIF')\n",
    "gdal.SetConfigOption('GDAL_HTTP_UNSAFESSL', 'YES')\n",
    "\n",
    "h = urls[1]\n",
    "h\n"
   ]
  },
  {
   "cell_type": "code",
   "execution_count": null,
   "metadata": {},
   "outputs": [],
   "source": [
    "# downloading each granules -- need in automation of this process\n",
    "files = earthaccess.download(dataset, \"./data/LC08/2020\")"
   ]
  },
  {
   "cell_type": "code",
   "execution_count": null,
   "metadata": {},
   "outputs": [],
   "source": [
    "evi_band_links = []\n",
    "\n",
    "if h[0].split('/')[4] == 'HLSL30.020':\n",
    "    evi_bands = ['B05', 'B04', 'B02'] # for Landsat 8\n",
    "else:\n",
    "    print('Please check the sensor again.')\n",
    "\n",
    "for a in h:\n",
    "    if any(b in a for b in evi_bands):\n",
    "        evi_band_links.append(a)\n",
    "\n",
    "evi_band_links"
   ]
  },
  {
   "cell_type": "code",
   "execution_count": null,
   "metadata": {},
   "outputs": [],
   "source": [
    "import xarray as xr\n",
    "import rioxarray as rxr\n",
    "\n",
    "chunk_size = dict(band=1, x=512, y=512) \n",
    "max_retries = 10\n",
    "for e in evi_band_links:\n",
    "    print(e)\n",
    "    for _i in range(max_retries):\n",
    "        try:\n",
    "            if e.rsplit('.', 2)[-2] == evi_bands[0]:     \n",
    "                nir = rxr.open_rasterio(e, chunks=chunk_size, masked=True).squeeze('band', drop=True)\n",
    "                nir.attrs['scale_factor'] = 0.0001        \n",
    "            elif e.rsplit('.', 2)[-2] == evi_bands[1]:    \n",
    "                red = rxr.open_rasterio(e, chunks=chunk_size, masked=True).squeeze('band', drop=True)\n",
    "                red.attrs['scale_factor'] = 0.0001       \n",
    "            elif e.rsplit('.', 2)[-2] == evi_bands[2]:  \n",
    "                blue = rxr.open_rasterio(e, chunks=chunk_size, masked=True).squeeze('band', drop=True)\n",
    "                blue.attrs['scale_factor'] = 0.0001      \n",
    "            break \n",
    "        except Exception as ex:\n",
    "            print(f\"vsi curl error: {ex}. Retrying...\")\n",
    "    else:\n",
    "        print(f\"Failed to process {e} after {max_retries} retries. Please check to see you're authenticated with earthaccess.\")\n",
    "print(\"The COGs have been loaded into memory!\")"
   ]
  },
  {
   "cell_type": "markdown",
   "metadata": {},
   "source": [
    "## b) landsatxplore"
   ]
  },
  {
   "cell_type": "code",
   "execution_count": null,
   "metadata": {},
   "outputs": [],
   "source": [
    "import landsatxplore\n",
    "from landsatxplore import errors\n",
    "from landsatxplore.earthexplorer import EarthExplorer\n",
    "from landsatxplore.api import API\n",
    "\n",
    "import os\n",
    "import json\n",
    "import pandas as pd"
   ]
  },
  {
   "cell_type": "code",
   "execution_count": null,
   "metadata": {},
   "outputs": [],
   "source": [
    "username = \"aprilianidiar\"\n",
    "password = \"28Maret1991!100423\"\n",
    "\n",
    "api = API(username, password)\n",
    "\n",
    "response = api.request(endpoint='dataset-catalogs')\n",
    "print(response)"
   ]
  },
  {
   "cell_type": "code",
   "execution_count": null,
   "metadata": {},
   "outputs": [],
   "source": [
    "results = []\n",
    "\n",
    "datasets = 'landsat_tm_c2_l2'\n",
    "\n",
    "for dataset in datasets:\n",
    "    scenes = api.search(\n",
    "        dataset=datasets,\n",
    "        latitude=33.83,\n",
    "        longitude=66.03,\n",
    "        start_date='1990-01-01',\n",
    "        end_date='1990-12-31',\n",
    "        max_cloud_cover=20,\n",
    "    )\n",
    "    results.extend(scenes)\n",
    "\n",
    "print(f\"{len(scenes)} scenes found.\")"
   ]
  },
  {
   "cell_type": "code",
   "execution_count": null,
   "metadata": {},
   "outputs": [],
   "source": [
    "df_scenes = pd.DataFrame(results)\n",
    "df_scenes['tier'] = [int(x[-1]) for x in df_scenes[\"display_id\"]]\n",
    "df_scenes['satellite'] = [int(str(x)[-1]) for x in df_scenes['satellite']]\n",
    "\n",
    "df_scenes = df_scenes[['display_id', 'wrs_path', 'wrs_row', 'satellite', 'cloud_cover', 'tier', 'acquisition_date']]\n",
    "df_scenes.columns = ['id', 'path', 'row', 'satellite', 'cloud_cover', 'tier', 'date']\n",
    "\n",
    "df_scenes['year'] = pd.to_datetime(df_scenes['date']).dt.year\n",
    "df_scenes['month'] = pd.to_datetime(df_scenes['date']).dt.month\n",
    "\n",
    "df_scenes.sort_values('date', ascending=True, inplace=True)\n",
    "\n",
    "print(df_scenes)"
   ]
  },
  {
   "cell_type": "code",
   "execution_count": null,
   "metadata": {},
   "outputs": [],
   "source": [
    "for scene in scenes:\n",
    "    print(scene['acquisition_date'].strftime('%Y-%m-%d'))\n",
    "    fname = f\"./data/LT05/1990/{scene['landsat_product_id']}.geojson\"\n",
    "    with open(fname, \"w\") as f:\n",
    "        json.dump(scene['spatial_coverage'].__geo_interface__, f)"
   ]
  },
  {
   "cell_type": "markdown",
   "metadata": {},
   "source": [
    "# Stacking Data"
   ]
  },
  {
   "cell_type": "markdown",
   "metadata": {},
   "source": [
    "## 1) Read Data\n",
    "Reading the data from the existing module (earthaccess/landsatxplore) which transferred into *local*."
   ]
  },
  {
   "cell_type": "code",
   "execution_count": null,
   "metadata": {},
   "outputs": [],
   "source": [
    "import numpy as np\n",
    "import rasterio as rio\n",
    "\n",
    "from glob import glob\n",
    "from osgeo import ogr"
   ]
  },
  {
   "cell_type": "code",
   "execution_count": null,
   "metadata": {},
   "outputs": [],
   "source": [
    "bands = glob(\"./data/LC08/2020/*.tif\")\n",
    "bands.sort()\n",
    "\n",
    "stacked = []\n",
    "for i in bands:\n",
    "    with rio.open(i, 'r') as f:\n",
    "        stacked.append(f.read(1))\n",
    "\n",
    "stacked = np.stack(stacked)\n"
   ]
  },
  {
   "cell_type": "code",
   "execution_count": null,
   "metadata": {},
   "outputs": [],
   "source": [
    "training = ogr.Open('./afg/afg_train.shp')\n",
    "shape = training.GetLayer(0)\n",
    "feature = shape.GetFeature(0)\n",
    "first = feature.ExportToJson()\n",
    "print(first)"
   ]
  },
  {
   "cell_type": "markdown",
   "metadata": {},
   "source": [
    "## 2) Data Visualization "
   ]
  },
  {
   "cell_type": "code",
   "execution_count": null,
   "metadata": {},
   "outputs": [],
   "source": [
    "import earthpy.plot as ep \n",
    "\n",
    "ep.plot_rgb(\n",
    "    stacked,\n",
    "    rgb=(3,2,1), #for landsat-5\n",
    "    stretch=True,\n",
    "    str_clip=0.02,  \n",
    "    figsize=(10,10),\n",
    "    title=\"RGB Composite Image with Stretch Applied\",\n",
    ")\n",
    "\n",
    "plt.show()"
   ]
  },
  {
   "cell_type": "code",
   "execution_count": null,
   "metadata": {},
   "outputs": [],
   "source": [
    "ep.plot_bands(\n",
    "    stacked,\n",
    "    cmap='gist_earth',\n",
    "    figsize=(10,10),\n",
    "    cols=6,\n",
    "    cbar=False\n",
    ")\n",
    "\n",
    "plt.show()"
   ]
  },
  {
   "cell_type": "markdown",
   "metadata": {},
   "source": [
    "# Classification\n"
   ]
  },
  {
   "cell_type": "markdown",
   "metadata": {},
   "source": [
    "## 1) Preprocessing"
   ]
  },
  {
   "cell_type": "code",
   "execution_count": null,
   "metadata": {},
   "outputs": [],
   "source": [
    "from sklearn.preprocessing import StandardScaler\n",
    "from sklearn.model_selection import train_test_split\n",
    "\n",
    "x = np.moveaxis(stacked, 0, -1)\n",
    "\n",
    "X_data = x.reshape(-1, 12)\n",
    "scaler = StandardScaler().fit(X_data)\n",
    "X_scaled = scaler.transform(X_data)\n",
    "\n",
    "# split\n",
    "X_train, X_test, Y_train, Y_test = train_test_split(\n",
    "    X_scaled, \n",
    "    first.ravel(),\n",
    "    test_size=0.30,\n",
    "    stratify=first.ravel()\n",
    ")\n",
    "\n",
    "print(\n",
    "    f\"X_train Shape: {X_train.shape} \\n X_test Shape: {X_test.shape} \\n Y_train Shape: {Y_train.shape} \\n Y_test Shape: {Y_test.shape}\"\n",
    ")"
   ]
  },
  {
   "cell_type": "markdown",
   "metadata": {},
   "source": [
    "## 2) Classifier"
   ]
  },
  {
   "cell_type": "markdown",
   "metadata": {},
   "source": [
    "### a) Using K-Nearest Neighbor Classifier (K-NNC)"
   ]
  },
  {
   "attachments": {
    "image.png": {
     "image/png": "[encoded data removed]"
    }
   },
   "cell_type": "markdown",
   "metadata": {},
   "source": [
    "![image.png](attachment:image.png)"
   ]
  },
  {
   "cell_type": "code",
   "execution_count": null,
   "metadata": {},
   "outputs": [],
   "source": [
    "from sklearn.neighbors import KNeighborsClassifier\n",
    "from sklearn.metrics import accuracy_score, classification_report\n",
    "\n",
    "knn = KNeighborsClassifier(n_neighbors=11)\n",
    "knn.fit(X_train, Y_train)\n",
    "\n",
    "knn_pred = knn.predict(X_test)\n",
    "print(f\"Accuracy: {accuracy_score(Y_test, knn_pred)*100}\")\n",
    "print(classification_report(Y_test, knn_pred))"
   ]
  },
  {
   "cell_type": "code",
   "execution_count": null,
   "metadata": {},
   "outputs": [],
   "source": [
    "from matplotlib.colors import ListedColormap\n",
    "\n",
    "ep.plot_bands(knn.predict(X_scaled).reshape((954, 298)),\n",
    "              cmap=ListedColormap([\n",
    "                  'darkgreen',\n",
    "                  'green',\n",
    "                  'black',\n",
    "                  '#CA6F1E',\n",
    "                  'navy',\n",
    "                  'forestgreen',\n",
    "              ]))\n",
    "plt.show()"
   ]
  },
  {
   "cell_type": "markdown",
   "metadata": {},
   "source": [
    "### b) Using Support Vector Machine (SVM)\n",
    "Based on the module *scikit learn*"
   ]
  },
  {
   "cell_type": "code",
   "execution_count": null,
   "metadata": {},
   "outputs": [],
   "source": [
    "from sklearn.svm import SVC\n",
    "\n",
    "svm = SVC(\n",
    "    C=3.0,\n",
    "    kernel='rbf',\n",
    "    degree=6,\n",
    "    cache_size=1024\n",
    ")\n",
    "\n",
    "svm.fit(X_train, Y_train)\n",
    "svm_pred = svm.predict(X_test)\n",
    "\n",
    "print(f\"Accuracy: {accuracy_score(Y_test, svm_pred)*100}\")\n",
    "print(classification_report(Y_test, svm_pred))"
   ]
  },
  {
   "cell_type": "code",
   "execution_count": null,
   "metadata": {},
   "outputs": [],
   "source": [
    "ep.plot_bands(svm.predict(X_scaled).reshape((954, 298)),\n",
    "              cmap=ListedColormap([\n",
    "                  'darkgreen',\n",
    "                  'green',\n",
    "                  'black',\n",
    "                  '#CA6F1E',\n",
    "                  'navy',\n",
    "                  'forestgreen',\n",
    "              ]))\n",
    "plt.show()"
   ]
  },
  {
   "cell_type": "markdown",
   "metadata": {},
   "source": [
    "### c) Using Gradient Boosting Classifier\n",
    "Based on the module *LightGBM*"
   ]
  },
  {
   "cell_type": "code",
   "execution_count": null,
   "metadata": {},
   "outputs": [],
   "source": [
    "import lightgbm as lgb\n",
    "\n",
    "d_train = lgb.Dataset(X_train, label=Y_train)\n",
    "\n",
    "params = {}\n",
    "params['learning_rate']=0.03\n",
    "params['boosting_type']='gbdt'\n",
    "params['objective']='multiclass'\n",
    "params['metric']='multi_logloss'\n",
    "params['max_depth']=15\n",
    "params['num_class']=6\n",
    "\n",
    "clf = lgb.train(params, d_train, 100)\n",
    "\n",
    "lgb_predictions = clf.predict(X_test)\n",
    "lgb_pred = np.argmax(lgb_predictions, axis=1)\n",
    "\n",
    "print(f\"Accuracy: {accuracy_score(Y_test, lgb_pred)*100}\")\n",
    "print(classification_report(Y_test, lgb_pred))"
   ]
  }
 ],
 "metadata": {
  "kernelspec": {
   "display_name": "Python 3",
   "language": "python",
   "name": "python3"
  },
  "language_info": {
   "codemirror_mode": {
    "name": "ipython",
    "version": 3
   },
   "file_extension": ".py",
   "mimetype": "text/x-python",
   "name": "python",
   "nbconvert_exporter": "python",
   "pygments_lexer": "ipython3",
   "version": "3.12.3"
  }
 },
 "nbformat": 4,
 "nbformat_minor": 2
}
